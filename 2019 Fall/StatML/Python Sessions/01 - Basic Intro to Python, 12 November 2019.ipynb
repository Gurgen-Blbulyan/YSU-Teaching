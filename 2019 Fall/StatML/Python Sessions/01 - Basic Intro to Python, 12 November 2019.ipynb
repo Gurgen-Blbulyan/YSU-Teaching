{
 "cells": [
  {
   "cell_type": "markdown",
   "metadata": {},
   "source": [
    "# YSU StatML course, Fall 2019\n",
    "\n",
    "### Michael Poghosyan\n",
    "\n",
    "## Python Session 01: Intro to Jupyter, Markdown and Python\n",
    "***"
   ]
  },
  {
   "cell_type": "markdown",
   "metadata": {},
   "source": [
    "##  Markdown Basics"
   ]
  },
  {
   "cell_type": "markdown",
   "metadata": {},
   "source": [
    "For each cell, we have 2 Modes: \n",
    "\n",
    "- Command Mode (the outer, enclosing rectangle is in <font color=\"Blue\">Blue</font>)\n",
    "- Edit Mode (the outer, enclosing rectangle is in <font color=\"Green\">Green</font>)\n",
    "\n",
    "- To switch from Edit Mode to Command Mode, hit `Esc`\n",
    "- To switch from Command Mode to Edit Mode, hit `Enter`"
   ]
  },
  {
   "cell_type": "markdown",
   "metadata": {},
   "source": [
    "Also, we have **Text/Markdown** cells, and we have **Code** Cells. \n",
    "\n",
    "- When in the Command Mode, to switch from Code cell to Markdown Cell, hit `m`\n",
    "- When in the Command Mode, to switch from Markdown cell to Code Cell, hit `y`"
   ]
  },
  {
   "cell_type": "markdown",
   "metadata": {},
   "source": [
    "You can use different styling options, like this: This is a **very basic** intro to *Jupyter*, <font color=\"red\">Markdown</font> and  `Python` Language."
   ]
  },
  {
   "cell_type": "markdown",
   "metadata": {},
   "source": [
    "Also, you can include `HTML` code in the Markdown, like the above color codes or the header code. Or something like\n",
    "<center>\n",
    "<table>\n",
    "    <tr>\n",
    "        <td> Tralala 1</td>\n",
    "        <td> Tralala 2</td>\n",
    "    </tr>\n",
    "    <tr>\n",
    "        <td> Tralala 3</td>\n",
    "        <td> Tralala 4</td>\n",
    "    </tr>\n",
    "</table>\n",
    "    This is a Table\n",
    "</center>"
   ]
  },
  {
   "cell_type": "markdown",
   "metadata": {},
   "source": [
    "Even you can write here Հայերեն $\\ddot{\\smile}$"
   ]
  },
  {
   "cell_type": "markdown",
   "metadata": {},
   "source": [
    "Another nice thing is that you can include LaTeX formulas into your Markdown code, like:\n",
    "$$\n",
    "\\int_0^1 \\left(\\sum_{n=1}^\\infty f_n(x)\\right)\\, dx = 1\n",
    "$$\n",
    "\n",
    "Or, say, if $\\mathcal{X}\\subset\\mathbb{R}$, $\\pi<\\gamma$ and $X\\sim\\chi^2(n)$, then $Z\\sim\\mathcal{N}(0,1)$, assuming that \n",
    "$$\n",
    "\\frac{\\overline{X}-\\mu}{\\sigma/\\sqrt{n}} \\to 12345  \\qquad as \\qquad n\\to+\\infty.\n",
    "$$"
   ]
  },
  {
   "cell_type": "markdown",
   "metadata": {},
   "source": [
    "## Python basics"
   ]
  },
  {
   "cell_type": "code",
   "execution_count": 1,
   "metadata": {},
   "outputs": [],
   "source": [
    "# This is already a Code Cell\n",
    "# This is just a comment"
   ]
  },
  {
   "cell_type": "markdown",
   "metadata": {},
   "source": [
    "### 0.1: Basic Operations with Numbers and Booleans"
   ]
  },
  {
   "cell_type": "code",
   "execution_count": 2,
   "metadata": {},
   "outputs": [
    {
     "name": "stdout",
     "output_type": "stream",
     "text": [
      "-9\n"
     ]
    }
   ],
   "source": [
    "x = 1+2-3*4 #Some Algebraic operations\n",
    "print(x)"
   ]
  },
  {
   "cell_type": "code",
   "execution_count": 3,
   "metadata": {},
   "outputs": [
    {
     "data": {
      "text/plain": [
       "1024"
      ]
     },
     "execution_count": 3,
     "metadata": {},
     "output_type": "execute_result"
    }
   ],
   "source": [
    "2**10 #This is calculating 2^{10}, 2 to the power 10"
   ]
  },
  {
   "cell_type": "code",
   "execution_count": 4,
   "metadata": {},
   "outputs": [
    {
     "data": {
      "text/plain": [
       "(1, 4)"
      ]
     },
     "execution_count": 4,
     "metadata": {},
     "output_type": "execute_result"
    }
   ],
   "source": [
    "10 % 3, 14//3  # mod and integer division"
   ]
  },
  {
   "cell_type": "code",
   "execution_count": 5,
   "metadata": {},
   "outputs": [
    {
     "data": {
      "text/plain": [
       "10"
      ]
     },
     "execution_count": 5,
     "metadata": {},
     "output_type": "execute_result"
    }
   ],
   "source": [
    "round(10.3) # some rounding"
   ]
  },
  {
   "cell_type": "code",
   "execution_count": 6,
   "metadata": {},
   "outputs": [
    {
     "data": {
      "text/plain": [
       "(1, False, 3)"
      ]
     },
     "execution_count": 6,
     "metadata": {},
     "output_type": "execute_result"
    }
   ],
   "source": [
    "False+True, not True, 2+True #Boleans :)"
   ]
  },
  {
   "cell_type": "markdown",
   "metadata": {},
   "source": [
    "### 0.2: Lists and Arrays"
   ]
  },
  {
   "cell_type": "markdown",
   "metadata": {},
   "source": [
    "#### 0.2.1: Lists"
   ]
  },
  {
   "cell_type": "code",
   "execution_count": 7,
   "metadata": {},
   "outputs": [
    {
     "name": "stdout",
     "output_type": "stream",
     "text": [
      "1\n",
      "4\n"
     ]
    }
   ],
   "source": [
    "x = [1, 4, 6] #x is a List Object \n",
    "print(x[0])   #Python is indexing starting from 0 (important!)\n",
    "print(x[1])   #x[3] gives an error"
   ]
  },
  {
   "cell_type": "code",
   "execution_count": 8,
   "metadata": {},
   "outputs": [
    {
     "data": {
      "text/plain": [
       "(2, 'a', 'a', [1, 3])"
      ]
     },
     "execution_count": 8,
     "metadata": {},
     "output_type": "execute_result"
    }
   ],
   "source": [
    "x = [2, \"a\", 'a', [1,3]] #List Elements can have different types\n",
    "x[0], x[1], x[2], x[3]"
   ]
  },
  {
   "cell_type": "code",
   "execution_count": 9,
   "metadata": {},
   "outputs": [
    {
     "name": "stdout",
     "output_type": "stream",
     "text": [
      "<class 'list'>\n",
      "<class 'str'>\n"
     ]
    },
    {
     "data": {
      "text/plain": [
       "list"
      ]
     },
     "execution_count": 9,
     "metadata": {},
     "output_type": "execute_result"
    }
   ],
   "source": [
    "print(type(x))\n",
    "print(type(x[2]))\n",
    "type(x)"
   ]
  },
  {
   "cell_type": "code",
   "execution_count": 10,
   "metadata": {},
   "outputs": [
    {
     "data": {
      "text/plain": [
       "[1, 2, 3, 4, 5, 6]"
      ]
     },
     "execution_count": 10,
     "metadata": {},
     "output_type": "execute_result"
    }
   ],
   "source": [
    "[1,2,3]+[4,5,6] #adding 2 lists = concatenation"
   ]
  },
  {
   "cell_type": "code",
   "execution_count": 11,
   "metadata": {},
   "outputs": [
    {
     "data": {
      "text/plain": [
       "[1, 2, 3, 1, 2, 3]"
      ]
     },
     "execution_count": 11,
     "metadata": {},
     "output_type": "execute_result"
    }
   ],
   "source": [
    "2*[1, 2, 3] # 2*x = x+x, of course :)"
   ]
  },
  {
   "cell_type": "code",
   "execution_count": 12,
   "metadata": {},
   "outputs": [
    {
     "data": {
      "text/plain": [
       "[1, 2]"
      ]
     },
     "execution_count": 12,
     "metadata": {},
     "output_type": "execute_result"
    }
   ],
   "source": [
    "x = [1,2,3,4,5,6,1,2]\n",
    "x[:2] #Sublist, Slicing"
   ]
  },
  {
   "cell_type": "code",
   "execution_count": 13,
   "metadata": {},
   "outputs": [
    {
     "data": {
      "text/plain": [
       "[2, 3]"
      ]
     },
     "execution_count": 13,
     "metadata": {},
     "output_type": "execute_result"
    }
   ],
   "source": [
    "x[:] #The whole list, will not be printed, only the last command's output will be visible\n",
    "x[1:3] #Only the 2nd and third elements"
   ]
  },
  {
   "cell_type": "code",
   "execution_count": 14,
   "metadata": {},
   "outputs": [
    {
     "data": {
      "text/plain": [
       "[1, 3, 5, 7]"
      ]
     },
     "execution_count": 14,
     "metadata": {},
     "output_type": "execute_result"
    }
   ],
   "source": [
    "x = [1, 2, 3, 4, 5, 6, 7, 8]\n",
    "x[0::2] #Gives all odd-indexed elements"
   ]
  },
  {
   "cell_type": "code",
   "execution_count": 15,
   "metadata": {},
   "outputs": [
    {
     "data": {
      "text/plain": [
       "[2, 4, 6, 8]"
      ]
     },
     "execution_count": 15,
     "metadata": {},
     "output_type": "execute_result"
    }
   ],
   "source": [
    "x[1::2]"
   ]
  },
  {
   "cell_type": "code",
   "execution_count": 16,
   "metadata": {},
   "outputs": [
    {
     "data": {
      "text/plain": [
       "[1, 4, 7]"
      ]
     },
     "execution_count": 16,
     "metadata": {},
     "output_type": "execute_result"
    }
   ],
   "source": [
    "x[0::3] # the elements with index from 0 to the end by step 3"
   ]
  },
  {
   "cell_type": "code",
   "execution_count": 17,
   "metadata": {},
   "outputs": [
    {
     "data": {
      "text/plain": [
       "(8, 7)"
      ]
     },
     "execution_count": 17,
     "metadata": {},
     "output_type": "execute_result"
    }
   ],
   "source": [
    "x[-1], x[-2] #Indexing from the end, so x[-1] gives the last element, x[-2] gives the previous-to-last etc"
   ]
  },
  {
   "cell_type": "code",
   "execution_count": 18,
   "metadata": {},
   "outputs": [
    {
     "data": {
      "text/plain": [
       "8"
      ]
     },
     "execution_count": 18,
     "metadata": {},
     "output_type": "execute_result"
    }
   ],
   "source": [
    "len(x) #the length of x"
   ]
  },
  {
   "cell_type": "code",
   "execution_count": 19,
   "metadata": {},
   "outputs": [
    {
     "data": {
      "text/plain": [
       "[1, 2, 3, 4, 5, 6, 7, 8, 100]"
      ]
     },
     "execution_count": 19,
     "metadata": {},
     "output_type": "execute_result"
    }
   ],
   "source": [
    "x.append(100) #Adding a new element, equal to 100, to the end of the List\n",
    "x"
   ]
  },
  {
   "cell_type": "code",
   "execution_count": 20,
   "metadata": {},
   "outputs": [
    {
     "data": {
      "text/plain": [
       "[1, 2, 3, 4, 5, 6, 7, 8, 100, 211]"
      ]
     },
     "execution_count": 20,
     "metadata": {},
     "output_type": "execute_result"
    }
   ],
   "source": [
    "x = x + [211] # Another way to add an element to List\n",
    "x"
   ]
  },
  {
   "cell_type": "code",
   "execution_count": 21,
   "metadata": {},
   "outputs": [
    {
     "data": {
      "text/plain": [
       "211"
      ]
     },
     "execution_count": 21,
     "metadata": {},
     "output_type": "execute_result"
    }
   ],
   "source": [
    "max(x) #Will not work in our case, because we have different type objects"
   ]
  },
  {
   "cell_type": "code",
   "execution_count": 22,
   "metadata": {},
   "outputs": [
    {
     "data": {
      "text/plain": [
       "5"
      ]
     },
     "execution_count": 22,
     "metadata": {},
     "output_type": "execute_result"
    }
   ],
   "source": [
    "max([1, 2, 3.0, 5])"
   ]
  },
  {
   "cell_type": "code",
   "execution_count": 23,
   "metadata": {},
   "outputs": [
    {
     "data": {
      "text/plain": [
       "[211, 100, 8, 7, 6, 5, 4, 3, 2, 1]"
      ]
     },
     "execution_count": 23,
     "metadata": {},
     "output_type": "execute_result"
    }
   ],
   "source": [
    "x.reverse()\n",
    "x"
   ]
  },
  {
   "cell_type": "code",
   "execution_count": 24,
   "metadata": {},
   "outputs": [
    {
     "data": {
      "text/plain": [
       "[1, 4, 9]"
      ]
     },
     "execution_count": 24,
     "metadata": {},
     "output_type": "execute_result"
    }
   ],
   "source": [
    "[i**2 for i in [1, 2, 3]] #making a list by a formula"
   ]
  },
  {
   "cell_type": "code",
   "execution_count": 25,
   "metadata": {
    "scrolled": false
   },
   "outputs": [
    {
     "name": "stdout",
     "output_type": "stream",
     "text": [
      "b =  [1, 2, 3, 4, 5, 6, 7, 8, 9] , c=  [1, 2, 3, 4, 5, 6, 7, 8, 9]\n"
     ]
    }
   ],
   "source": [
    "a = range(1,10) #range object from 1 to 10,\n",
    "b = list(range(1,10)) #range() is not a list, we make a list from that\n",
    "c = [i for i in a] #the second way to make a list from a range() object\n",
    "print('b = ', b , ', c= ', c)"
   ]
  },
  {
   "cell_type": "code",
   "execution_count": 26,
   "metadata": {},
   "outputs": [
    {
     "data": {
      "text/plain": [
       "[1, 3, 5, 7, 9, 11, 13, 15, 17, 19]"
      ]
     },
     "execution_count": 26,
     "metadata": {},
     "output_type": "execute_result"
    }
   ],
   "source": [
    "d = list(range(1,20,2))\n",
    "d"
   ]
  },
  {
   "cell_type": "code",
   "execution_count": 27,
   "metadata": {},
   "outputs": [
    {
     "name": "stdout",
     "output_type": "stream",
     "text": [
      "[0, 1, 2, 3, 4, 5, 6, 7, 8, 9]\n"
     ]
    }
   ],
   "source": [
    "e = list(range(10))\n",
    "print(e)"
   ]
  },
  {
   "cell_type": "markdown",
   "metadata": {},
   "source": [
    "#### 0.2.2: Tuples"
   ]
  },
  {
   "cell_type": "code",
   "execution_count": 28,
   "metadata": {},
   "outputs": [
    {
     "data": {
      "text/plain": [
       "tuple"
      ]
     },
     "execution_count": 28,
     "metadata": {},
     "output_type": "execute_result"
    }
   ],
   "source": [
    "y = (1, 2, 3) #differs from the list in that that it is impossible to change the value of a tuple\n",
    "type(y)"
   ]
  },
  {
   "cell_type": "code",
   "execution_count": 29,
   "metadata": {},
   "outputs": [
    {
     "data": {
      "text/plain": [
       "1"
      ]
     },
     "execution_count": 29,
     "metadata": {},
     "output_type": "execute_result"
    }
   ],
   "source": [
    "y[0]"
   ]
  },
  {
   "cell_type": "code",
   "execution_count": 30,
   "metadata": {},
   "outputs": [
    {
     "ename": "TypeError",
     "evalue": "'tuple' object does not support item assignment",
     "output_type": "error",
     "traceback": [
      "\u001b[1;31m---------------------------------------------------------------------------\u001b[0m",
      "\u001b[1;31mTypeError\u001b[0m                                 Traceback (most recent call last)",
      "\u001b[1;32m<ipython-input-30-b506acbfd407>\u001b[0m in \u001b[0;36m<module>\u001b[1;34m\u001b[0m\n\u001b[1;32m----> 1\u001b[1;33m \u001b[0my\u001b[0m\u001b[1;33m[\u001b[0m\u001b[1;36m1\u001b[0m\u001b[1;33m]\u001b[0m \u001b[1;33m=\u001b[0m \u001b[1;36m2\u001b[0m\u001b[1;33m\u001b[0m\u001b[1;33m\u001b[0m\u001b[0m\n\u001b[0m",
      "\u001b[1;31mTypeError\u001b[0m: 'tuple' object does not support item assignment"
     ]
    }
   ],
   "source": [
    "y[1] = 2"
   ]
  },
  {
   "cell_type": "code",
   "execution_count": 31,
   "metadata": {},
   "outputs": [
    {
     "data": {
      "text/plain": [
       "[1, 2, 3]"
      ]
     },
     "execution_count": 31,
     "metadata": {},
     "output_type": "execute_result"
    }
   ],
   "source": [
    "list(y) #making a list from a tuple"
   ]
  },
  {
   "cell_type": "code",
   "execution_count": 32,
   "metadata": {},
   "outputs": [
    {
     "data": {
      "text/plain": [
       "(1, 2, 3)"
      ]
     },
     "execution_count": 32,
     "metadata": {},
     "output_type": "execute_result"
    }
   ],
   "source": [
    "y # y is unchanged"
   ]
  },
  {
   "cell_type": "code",
   "execution_count": 33,
   "metadata": {},
   "outputs": [
    {
     "data": {
      "text/plain": [
       "(2, 4, 5)"
      ]
     },
     "execution_count": 33,
     "metadata": {},
     "output_type": "execute_result"
    }
   ],
   "source": [
    "tuple([2,4,5]) #making a tuple from a list"
   ]
  },
  {
   "cell_type": "markdown",
   "metadata": {},
   "source": [
    "#### 0.2.3: Sets"
   ]
  },
  {
   "cell_type": "code",
   "execution_count": 34,
   "metadata": {},
   "outputs": [
    {
     "data": {
      "text/plain": [
       "{1, 2, 3, 4, 5}"
      ]
     },
     "execution_count": 34,
     "metadata": {},
     "output_type": "execute_result"
    }
   ],
   "source": [
    "x = set([1,2,3,4,1,2,3,5])\n",
    "x"
   ]
  },
  {
   "cell_type": "code",
   "execution_count": 35,
   "metadata": {},
   "outputs": [
    {
     "data": {
      "text/plain": [
       "(True, False)"
      ]
     },
     "execution_count": 35,
     "metadata": {},
     "output_type": "execute_result"
    }
   ],
   "source": [
    "3 in x, 8 in x"
   ]
  },
  {
   "cell_type": "code",
   "execution_count": 36,
   "metadata": {},
   "outputs": [
    {
     "data": {
      "text/plain": [
       "[1, 2, 3, 4]"
      ]
     },
     "execution_count": 36,
     "metadata": {},
     "output_type": "execute_result"
    }
   ],
   "source": [
    "# Choosing unique elements in the list\n",
    "a = [1,2,3,4,3,2,2,1,2,1,3]  #this is our list\n",
    "b = list(set(a)) #this is the filtered list\n",
    "b"
   ]
  },
  {
   "cell_type": "markdown",
   "metadata": {},
   "source": [
    "#### 0.2.4: Dictionaries"
   ]
  },
  {
   "cell_type": "code",
   "execution_count": 37,
   "metadata": {},
   "outputs": [],
   "source": [
    "x = {'arajin': \"tandz\", \"erkrord\": \"xndzor\", \"errord\":['mandarin', \"narinj\",\"shnorhavor\"], 1:2019} \n",
    "# dictionaries are of the form  \n",
    "# key: value"
   ]
  },
  {
   "cell_type": "code",
   "execution_count": 38,
   "metadata": {},
   "outputs": [
    {
     "data": {
      "text/plain": [
       "dict_keys(['arajin', 'erkrord', 'errord', 1])"
      ]
     },
     "execution_count": 38,
     "metadata": {},
     "output_type": "execute_result"
    }
   ],
   "source": [
    "x.keys()"
   ]
  },
  {
   "cell_type": "code",
   "execution_count": 39,
   "metadata": {},
   "outputs": [
    {
     "data": {
      "text/plain": [
       "dict_values(['tandz', 'xndzor', ['mandarin', 'narinj', 'shnorhavor'], 2019])"
      ]
     },
     "execution_count": 39,
     "metadata": {},
     "output_type": "execute_result"
    }
   ],
   "source": [
    "x.values()"
   ]
  },
  {
   "cell_type": "code",
   "execution_count": 40,
   "metadata": {},
   "outputs": [
    {
     "data": {
      "text/plain": [
       "['tandz', 'xndzor', ['mandarin', 'narinj', 'shnorhavor'], 2019]"
      ]
     },
     "execution_count": 40,
     "metadata": {},
     "output_type": "execute_result"
    }
   ],
   "source": [
    "z = list(x.values()) #Fitting the Values into a List\n",
    "z"
   ]
  },
  {
   "cell_type": "code",
   "execution_count": 41,
   "metadata": {},
   "outputs": [
    {
     "data": {
      "text/plain": [
       "'tandz'"
      ]
     },
     "execution_count": 41,
     "metadata": {},
     "output_type": "execute_result"
    }
   ],
   "source": [
    "x[\"arajin\"]"
   ]
  },
  {
   "cell_type": "code",
   "execution_count": 42,
   "metadata": {},
   "outputs": [
    {
     "data": {
      "text/plain": [
       "['mandarin', 'narinj', 'shnorhavor']"
      ]
     },
     "execution_count": 42,
     "metadata": {},
     "output_type": "execute_result"
    }
   ],
   "source": [
    "x['errord']"
   ]
  },
  {
   "cell_type": "code",
   "execution_count": 43,
   "metadata": {},
   "outputs": [
    {
     "data": {
      "text/plain": [
       "2019"
      ]
     },
     "execution_count": 43,
     "metadata": {},
     "output_type": "execute_result"
    }
   ],
   "source": [
    "x[1]"
   ]
  },
  {
   "cell_type": "markdown",
   "metadata": {},
   "source": [
    "#### 0.2.5: Strings"
   ]
  },
  {
   "cell_type": "code",
   "execution_count": 44,
   "metadata": {},
   "outputs": [],
   "source": [
    "x = \" I love Math\""
   ]
  },
  {
   "cell_type": "code",
   "execution_count": 45,
   "metadata": {},
   "outputs": [],
   "source": [
    "y = 'And I love Music'\n",
    "z = \"\\nTralala\\t Trulala\""
   ]
  },
  {
   "cell_type": "code",
   "execution_count": 46,
   "metadata": {},
   "outputs": [
    {
     "name": "stdout",
     "output_type": "stream",
     "text": [
      "And I love Music \n",
      "Tralala\t Trulala\n"
     ]
    }
   ],
   "source": [
    "print(y,z)"
   ]
  },
  {
   "cell_type": "code",
   "execution_count": 47,
   "metadata": {},
   "outputs": [
    {
     "data": {
      "text/plain": [
       "['I', 'love', 'Math']"
      ]
     },
     "execution_count": 47,
     "metadata": {},
     "output_type": "execute_result"
    }
   ],
   "source": [
    "x.split()"
   ]
  },
  {
   "cell_type": "code",
   "execution_count": 48,
   "metadata": {},
   "outputs": [
    {
     "data": {
      "text/plain": [
       "' I love Math'"
      ]
     },
     "execution_count": 48,
     "metadata": {},
     "output_type": "execute_result"
    }
   ],
   "source": [
    "x"
   ]
  },
  {
   "cell_type": "code",
   "execution_count": 49,
   "metadata": {},
   "outputs": [
    {
     "data": {
      "text/plain": [
       "[' I l', 'e Math']"
      ]
     },
     "execution_count": 49,
     "metadata": {},
     "output_type": "execute_result"
    }
   ],
   "source": [
    "x.split(\"ov\")"
   ]
  },
  {
   "cell_type": "code",
   "execution_count": 50,
   "metadata": {},
   "outputs": [
    {
     "data": {
      "text/plain": [
       "'Aha, I am a string that can contain\\nsome\\nseveral lines'"
      ]
     },
     "execution_count": 50,
     "metadata": {},
     "output_type": "execute_result"
    }
   ],
   "source": [
    "u = \"\"\"Aha, I am a string that can contain\n",
    "some\n",
    "several lines\"\"\"\n",
    "u"
   ]
  },
  {
   "cell_type": "code",
   "execution_count": 51,
   "metadata": {},
   "outputs": [
    {
     "name": "stdout",
     "output_type": "stream",
     "text": [
      "Aha, I am a string that can contain\n",
      "some\n",
      "several lines\n"
     ]
    }
   ],
   "source": [
    "print(u)"
   ]
  },
  {
   "cell_type": "markdown",
   "metadata": {},
   "source": [
    "#### 0.2.6 Multidimensional Lists and Arrays"
   ]
  },
  {
   "cell_type": "code",
   "execution_count": 52,
   "metadata": {},
   "outputs": [
    {
     "data": {
      "text/plain": [
       "[[1, 2], [3, 4], [5, 6]]"
      ]
     },
     "execution_count": 52,
     "metadata": {},
     "output_type": "execute_result"
    }
   ],
   "source": [
    "a = [[1,2], [3,4], [5,6]]\n",
    "a"
   ]
  },
  {
   "cell_type": "code",
   "execution_count": 53,
   "metadata": {},
   "outputs": [
    {
     "name": "stdout",
     "output_type": "stream",
     "text": [
      "4\n"
     ]
    },
    {
     "ename": "TypeError",
     "evalue": "list indices must be integers or slices, not tuple",
     "output_type": "error",
     "traceback": [
      "\u001b[1;31m---------------------------------------------------------------------------\u001b[0m",
      "\u001b[1;31mTypeError\u001b[0m                                 Traceback (most recent call last)",
      "\u001b[1;32m<ipython-input-53-bf1b87df5aac>\u001b[0m in \u001b[0;36m<module>\u001b[1;34m\u001b[0m\n\u001b[0;32m      1\u001b[0m \u001b[0mprint\u001b[0m\u001b[1;33m(\u001b[0m\u001b[0ma\u001b[0m\u001b[1;33m[\u001b[0m\u001b[1;36m1\u001b[0m\u001b[1;33m]\u001b[0m\u001b[1;33m[\u001b[0m\u001b[1;36m1\u001b[0m\u001b[1;33m]\u001b[0m\u001b[1;33m)\u001b[0m \u001b[1;31m#This will work\u001b[0m\u001b[1;33m\u001b[0m\u001b[1;33m\u001b[0m\u001b[0m\n\u001b[1;32m----> 2\u001b[1;33m \u001b[0ma\u001b[0m\u001b[1;33m[\u001b[0m\u001b[1;36m1\u001b[0m\u001b[1;33m,\u001b[0m\u001b[1;36m1\u001b[0m\u001b[1;33m]\u001b[0m \u001b[1;31m#This gives an error\u001b[0m\u001b[1;33m\u001b[0m\u001b[1;33m\u001b[0m\u001b[0m\n\u001b[0m",
      "\u001b[1;31mTypeError\u001b[0m: list indices must be integers or slices, not tuple"
     ]
    }
   ],
   "source": [
    "print(a[1][1]) #This will work\n",
    "a[1,1] #This gives an error"
   ]
  },
  {
   "cell_type": "markdown",
   "metadata": {},
   "source": [
    "### 0.3: Loops"
   ]
  },
  {
   "cell_type": "code",
   "execution_count": 54,
   "metadata": {
    "scrolled": true
   },
   "outputs": [
    {
     "name": "stdout",
     "output_type": "stream",
     "text": [
      "1\n",
      "2\n",
      "4\n"
     ]
    }
   ],
   "source": [
    "#In Python, instead of C++ or R groupping, we use the tabulation to group several commands\n",
    "# Below, the code will work like the R code:\n",
    "# for (i in c(1,2,4)){\n",
    "#  z = 10+i\n",
    "#  print(i)  \n",
    "# }\n",
    "# z = 20\n",
    "\n",
    "for i in [1,2,4]:   \n",
    "    z = 10 + i\n",
    "    print(i)\n",
    "z = 20"
   ]
  },
  {
   "cell_type": "code",
   "execution_count": 55,
   "metadata": {},
   "outputs": [
    {
     "name": "stdout",
     "output_type": "stream",
     "text": [
      "45\n"
     ]
    }
   ],
   "source": [
    "s = 0\n",
    "for i in range(10):\n",
    "    s = s + i\n",
    "print(s)"
   ]
  },
  {
   "cell_type": "code",
   "execution_count": 56,
   "metadata": {},
   "outputs": [
    {
     "data": {
      "text/plain": [
       "45"
      ]
     },
     "execution_count": 56,
     "metadata": {},
     "output_type": "execute_result"
    }
   ],
   "source": [
    "#the same as above\n",
    "sum(range(10))"
   ]
  },
  {
   "cell_type": "markdown",
   "metadata": {},
   "source": [
    "### 0.4: Functions"
   ]
  },
  {
   "cell_type": "code",
   "execution_count": 57,
   "metadata": {},
   "outputs": [
    {
     "data": {
      "text/plain": [
       "8"
      ]
     },
     "execution_count": 57,
     "metadata": {},
     "output_type": "execute_result"
    }
   ],
   "source": [
    "def f(x,y,z):\n",
    "    val = x + 2*y + 3*z\n",
    "    return val\n",
    "\n",
    "f(0,1,2)"
   ]
  },
  {
   "cell_type": "code",
   "execution_count": 58,
   "metadata": {},
   "outputs": [
    {
     "name": "stdout",
     "output_type": "stream",
     "text": [
      "8\n",
      "2\n"
     ]
    }
   ],
   "source": [
    "def f(x,y=1,z=0):   #giving default values to some variables\n",
    "    val = x + 2*y + 3*z\n",
    "    return val\n",
    "\n",
    "print(f(0,1,2))\n",
    "print(f(0))      #equivalent to f(0,1,0)"
   ]
  },
  {
   "cell_type": "code",
   "execution_count": 59,
   "metadata": {
    "scrolled": true
   },
   "outputs": [
    {
     "name": "stdout",
     "output_type": "stream",
     "text": [
      "1 {}\n",
      "2 {'z': 5}\n",
      "1 {'m': 2, 'n': 3}\n"
     ]
    }
   ],
   "source": [
    "def f(x, y, **args): # **args is for \"and maybe some more arguments\" \n",
    "                     # - maybe we will not have any arguments more, maybe we will have 10 other arguments\n",
    "    print(x+y, args)\n",
    "    return\n",
    "\n",
    "f(0,1)\n",
    "f(1,1, z = 5)\n",
    "f(0,1, m=2, n=3)\n",
    "    "
   ]
  },
  {
   "cell_type": "markdown",
   "metadata": {},
   "source": [
    "## 0.5 Basic Plotting"
   ]
  },
  {
   "cell_type": "code",
   "execution_count": 60,
   "metadata": {},
   "outputs": [],
   "source": [
    "import numpy as np  #we are importing a package numpy to work with mathematical \n",
    "                    #arrays and other objects, say, sin function\n",
    "\n",
    "import matplotlib.pyplot as plt #this package is for plotting"
   ]
  },
  {
   "cell_type": "code",
   "execution_count": 61,
   "metadata": {},
   "outputs": [
    {
     "data": {
      "image/png": "[encoded data removed]",
      "text/plain": [
       "<Figure size 432x288 with 1 Axes>"
      ]
     },
     "metadata": {
      "needs_background": "light"
     },
     "output_type": "display_data"
    }
   ],
   "source": [
    "#Want to plot the graph of sin(2.5 x) from -2pi to 2pi\n",
    "\n",
    "def f(x):\n",
    "    return np.sin(2.5*x)\n",
    "\n",
    "t = np.linspace(-2*np.pi, 2*np.pi, 100) #divides our interval [-2pi, 2pi] into 100 equal-length subintervals\n",
    "y = f(t)\n",
    "plt.plot(t,y)\n",
    "plt.show()"
   ]
  },
  {
   "cell_type": "code",
   "execution_count": 62,
   "metadata": {},
   "outputs": [
    {
     "data": {
      "image/png": "[encoded data removed]",
      "text/plain": [
       "<Figure size 432x288 with 1 Axes>"
      ]
     },
     "metadata": {
      "needs_background": "light"
     },
     "output_type": "display_data"
    }
   ],
   "source": [
    "def g(x):\n",
    "    return x**2\n",
    "\n",
    "z = g(t)\n",
    "plt.plot(t,z,'r--', linewidth = 3.0) #plot in red, with dashed lines, and thick\n",
    "plt.show()"
   ]
  },
  {
   "cell_type": "code",
   "execution_count": 63,
   "metadata": {},
   "outputs": [
    {
     "data": {
      "image/png": "[encoded data removed]",
      "text/plain": [
       "<Figure size 432x288 with 1 Axes>"
      ]
     },
     "metadata": {
      "needs_background": "light"
     },
     "output_type": "display_data"
    }
   ],
   "source": [
    "plt.plot(t,y, t, z)\n",
    "plt.show()"
   ]
  },
  {
   "cell_type": "code",
   "execution_count": 64,
   "metadata": {},
   "outputs": [
    {
     "data": {
      "application/javascript": [
       "/* Put everything inside the global mpl namespace */\n",
       "window.mpl = {};\n",
       "\n",
       "\n",
       "mpl.get_websocket_type = function() {\n",
       "    if (typeof(WebSocket) !== 'undefined') {\n",
       "        return WebSocket;\n",
       "    } else if (typeof(MozWebSocket) !== 'undefined') {\n",
       "        return MozWebSocket;\n",
       "    } else {\n",
       "        alert('Your browser does not have WebSocket support. ' +\n",
       "              'Please try Chrome, Safari or Firefox ≥ 6. ' +\n",
       "              'Firefox 4 and 5 are also supported but you ' +\n",
       "              'have to enable WebSockets in about:config.');\n",
       "    };\n",
       "}\n",
       "\n",
       "mpl.figure = function(figure_id, websocket, ondownload, parent_element) {\n",
       "    this.id = figure_id;\n",
       "\n",
       "    this.ws = websocket;\n",
       "\n",
       "    this.supports_binary = (this.ws.binaryType != undefined);\n",
       "\n",
       "    if (!this.supports_binary) {\n",
       "        var warnings = document.getElementById(\"mpl-warnings\");\n",
       "        if (warnings) {\n",
       "            warnings.style.display = 'block';\n",
       "            warnings.textContent = (\n",
       "                \"This browser does not support binary websocket messages. \" +\n",
       "                    \"Performance may be slow.\");\n",
       "        }\n",
       "    }\n",
       "\n",
       "    this.imageObj = new Image();\n",
       "\n",
       "    this.context = undefined;\n",
       "    this.message = undefined;\n",
       "    this.canvas = undefined;\n",
       "    this.rubberband_canvas = undefined;\n",
       "    this.rubberband_context = undefined;\n",
       "    this.format_dropdown = undefined;\n",
       "\n",
       "    this.image_mode = 'full';\n",
       "\n",
       "    this.root = $('<div/>');\n",
       "    this._root_extra_style(this.root)\n",
       "    this.root.attr('style', 'display: inline-block');\n",
       "\n",
       "    $(parent_element).append(this.root);\n",
       "\n",
       "    this._init_header(this);\n",
       "    this._init_canvas(this);\n",
       "    this._init_toolbar(this);\n",
       "\n",
       "    var fig = this;\n",
       "\n",
       "    this.waiting = false;\n",
       "\n",
       "    this.ws.onopen =  function () {\n",
       "            fig.send_message(\"supports_binary\", {value: fig.supports_binary});\n",
       "            fig.send_message(\"send_image_mode\", {});\n",
       "            if (mpl.ratio != 1) {\n",
       "                fig.send_message(\"set_dpi_ratio\", {'dpi_ratio': mpl.ratio});\n",
       "            }\n",
       "            fig.send_message(\"refresh\", {});\n",
       "        }\n",
       "\n",
       "    this.imageObj.onload = function() {\n",
       "            if (fig.image_mode == 'full') {\n",
       "                // Full images could contain transparency (where diff images\n",
       "                // almost always do), so we need to clear the canvas so that\n",
       "                // there is no ghosting.\n",
       "                fig.context.clearRect(0, 0, fig.canvas.width, fig.canvas.height);\n",
       "            }\n",
       "            fig.context.drawImage(fig.imageObj, 0, 0);\n",
       "        };\n",
       "\n",
       "    this.imageObj.onunload = function() {\n",
       "        fig.ws.close();\n",
       "    }\n",
       "\n",
       "    this.ws.onmessage = this._make_on_message_function(this);\n",
       "\n",
       "    this.ondownload = ondownload;\n",
       "}\n",
       "\n",
       "mpl.figure.prototype._init_header = function() {\n",
       "    var titlebar = $(\n",
       "        '<div class=\"ui-dialog-titlebar ui-widget-header ui-corner-all ' +\n",
       "        'ui-helper-clearfix\"/>');\n",
       "    var titletext = $(\n",
       "        '<div class=\"ui-dialog-title\" style=\"width: 100%; ' +\n",
       "        'text-align: center; padding: 3px;\"/>');\n",
       "    titlebar.append(titletext)\n",
       "    this.root.append(titlebar);\n",
       "    this.header = titletext[0];\n",
       "}\n",
       "\n",
       "\n",
       "\n",
       "mpl.figure.prototype._canvas_extra_style = function(canvas_div) {\n",
       "\n",
       "}\n",
       "\n",
       "\n",
       "mpl.figure.prototype._root_extra_style = function(canvas_div) {\n",
       "\n",
       "}\n",
       "\n",
       "mpl.figure.prototype._init_canvas = function() {\n",
       "    var fig = this;\n",
       "\n",
       "    var canvas_div = $('<div/>');\n",
       "\n",
       "    canvas_div.attr('style', 'position: relative; clear: both; outline: 0');\n",
       "\n",
       "    function canvas_keyboard_event(event) {\n",
       "        return fig.key_event(event, event['data']);\n",
       "    }\n",
       "\n",
       "    canvas_div.keydown('key_press', canvas_keyboard_event);\n",
       "    canvas_div.keyup('key_release', canvas_keyboard_event);\n",
       "    this.canvas_div = canvas_div\n",
       "    this._canvas_extra_style(canvas_div)\n",
       "    this.root.append(canvas_div);\n",
       "\n",
       "    var canvas = $('<canvas/>');\n",
       "    canvas.addClass('mpl-canvas');\n",
       "    canvas.attr('style', \"left: 0; top: 0; z-index: 0; outline: 0\")\n",
       "\n",
       "    this.canvas = canvas[0];\n",
       "    this.context = canvas[0].getContext(\"2d\");\n",
       "\n",
       "    var backingStore = this.context.backingStorePixelRatio ||\n",
       "\tthis.context.webkitBackingStorePixelRatio ||\n",
       "\tthis.context.mozBackingStorePixelRatio ||\n",
       "\tthis.context.msBackingStorePixelRatio ||\n",
       "\tthis.context.oBackingStorePixelRatio ||\n",
       "\tthis.context.backingStorePixelRatio || 1;\n",
       "\n",
       "    mpl.ratio = (window.devicePixelRatio || 1) / backingStore;\n",
       "\n",
       "    var rubberband = $('<canvas/>');\n",
       "    rubberband.attr('style', \"position: absolute; left: 0; top: 0; z-index: 1;\")\n",
       "\n",
       "    var pass_mouse_events = true;\n",
       "\n",
       "    canvas_div.resizable({\n",
       "        start: function(event, ui) {\n",
       "            pass_mouse_events = false;\n",
       "        },\n",
       "        resize: function(event, ui) {\n",
       "            fig.request_resize(ui.size.width, ui.size.height);\n",
       "        },\n",
       "        stop: function(event, ui) {\n",
       "            pass_mouse_events = true;\n",
       "            fig.request_resize(ui.size.width, ui.size.height);\n",
       "        },\n",
       "    });\n",
       "\n",
       "    function mouse_event_fn(event) {\n",
       "        if (pass_mouse_events)\n",
       "            return fig.mouse_event(event, event['data']);\n",
       "    }\n",
       "\n",
       "    rubberband.mousedown('button_press', mouse_event_fn);\n",
       "    rubberband.mouseup('button_release', mouse_event_fn);\n",
       "    // Throttle sequential mouse events to 1 every 20ms.\n",
       "    rubberband.mousemove('motion_notify', mouse_event_fn);\n",
       "\n",
       "    rubberband.mouseenter('figure_enter', mouse_event_fn);\n",
       "    rubberband.mouseleave('figure_leave', mouse_event_fn);\n",
       "\n",
       "    canvas_div.on(\"wheel\", function (event) {\n",
       "        event = event.originalEvent;\n",
       "        event['data'] = 'scroll'\n",
       "        if (event.deltaY < 0) {\n",
       "            event.step = 1;\n",
       "        } else {\n",
       "            event.step = -1;\n",
       "        }\n",
       "        mouse_event_fn(event);\n",
       "    });\n",
       "\n",
       "    canvas_div.append(canvas);\n",
       "    canvas_div.append(rubberband);\n",
       "\n",
       "    this.rubberband = rubberband;\n",
       "    this.rubberband_canvas = rubberband[0];\n",
       "    this.rubberband_context = rubberband[0].getContext(\"2d\");\n",
       "    this.rubberband_context.strokeStyle = \"#000000\";\n",
       "\n",
       "    this._resize_canvas = function(width, height) {\n",
       "        // Keep the size of the canvas, canvas container, and rubber band\n",
       "        // canvas in synch.\n",
       "        canvas_div.css('width', width)\n",
       "        canvas_div.css('height', height)\n",
       "\n",
       "        canvas.attr('width', width * mpl.ratio);\n",
       "        canvas.attr('height', height * mpl.ratio);\n",
       "        canvas.attr('style', 'width: ' + width + 'px; height: ' + height + 'px;');\n",
       "\n",
       "        rubberband.attr('width', width);\n",
       "        rubberband.attr('height', height);\n",
       "    }\n",
       "\n",
       "    // Set the figure to an initial 600x600px, this will subsequently be updated\n",
       "    // upon first draw.\n",
       "    this._resize_canvas(600, 600);\n",
       "\n",
       "    // Disable right mouse context menu.\n",
       "    $(this.rubberband_canvas).bind(\"contextmenu\",function(e){\n",
       "        return false;\n",
       "    });\n",
       "\n",
       "    function set_focus () {\n",
       "        canvas.focus();\n",
       "        canvas_div.focus();\n",
       "    }\n",
       "\n",
       "    window.setTimeout(set_focus, 100);\n",
       "}\n",
       "\n",
       "mpl.figure.prototype._init_toolbar = function() {\n",
       "    var fig = this;\n",
       "\n",
       "    var nav_element = $('<div/>');\n",
       "    nav_element.attr('style', 'width: 100%');\n",
       "    this.root.append(nav_element);\n",
       "\n",
       "    // Define a callback function for later on.\n",
       "    function toolbar_event(event) {\n",
       "        return fig.toolbar_button_onclick(event['data']);\n",
       "    }\n",
       "    function toolbar_mouse_event(event) {\n",
       "        return fig.toolbar_button_onmouseover(event['data']);\n",
       "    }\n",
       "\n",
       "    for(var toolbar_ind in mpl.toolbar_items) {\n",
       "        var name = mpl.toolbar_items[toolbar_ind][0];\n",
       "        var tooltip = mpl.toolbar_items[toolbar_ind][1];\n",
       "        var image = mpl.toolbar_items[toolbar_ind][2];\n",
       "        var method_name = mpl.toolbar_items[toolbar_ind][3];\n",
       "\n",
       "        if (!name) {\n",
       "            // put a spacer in here.\n",
       "            continue;\n",
       "        }\n",
       "        var button = $('<button/>');\n",
       "        button.addClass('ui-button ui-widget ui-state-default ui-corner-all ' +\n",
       "                        'ui-button-icon-only');\n",
       "        button.attr('role', 'button');\n",
       "        button.attr('aria-disabled', 'false');\n",
       "        button.click(method_name, toolbar_event);\n",
       "        button.mouseover(tooltip, toolbar_mouse_event);\n",
       "\n",
       "        var icon_img = $('<span/>');\n",
       "        icon_img.addClass('ui-button-icon-primary ui-icon');\n",
       "        icon_img.addClass(image);\n",
       "        icon_img.addClass('ui-corner-all');\n",
       "\n",
       "        var tooltip_span = $('<span/>');\n",
       "        tooltip_span.addClass('ui-button-text');\n",
       "        tooltip_span.html(tooltip);\n",
       "\n",
       "        button.append(icon_img);\n",
       "        button.append(tooltip_span);\n",
       "\n",
       "        nav_element.append(button);\n",
       "    }\n",
       "\n",
       "    var fmt_picker_span = $('<span/>');\n",
       "\n",
       "    var fmt_picker = $('<select/>');\n",
       "    fmt_picker.addClass('mpl-toolbar-option ui-widget ui-widget-content');\n",
       "    fmt_picker_span.append(fmt_picker);\n",
       "    nav_element.append(fmt_picker_span);\n",
       "    this.format_dropdown = fmt_picker[0];\n",
       "\n",
       "    for (var ind in mpl.extensions) {\n",
       "        var fmt = mpl.extensions[ind];\n",
       "        var option = $(\n",
       "            '<option/>', {selected: fmt === mpl.default_extension}).html(fmt);\n",
       "        fmt_picker.append(option);\n",
       "    }\n",
       "\n",
       "    // Add hover states to the ui-buttons\n",
       "    $( \".ui-button\" ).hover(\n",
       "        function() { $(this).addClass(\"ui-state-hover\");},\n",
       "        function() { $(this).removeClass(\"ui-state-hover\");}\n",
       "    );\n",
       "\n",
       "    var status_bar = $('<span class=\"mpl-message\"/>');\n",
       "    nav_element.append(status_bar);\n",
       "    this.message = status_bar[0];\n",
       "}\n",
       "\n",
       "mpl.figure.prototype.request_resize = function(x_pixels, y_pixels) {\n",
       "    // Request matplotlib to resize the figure. Matplotlib will then trigger a resize in the client,\n",
       "    // which will in turn request a refresh of the image.\n",
       "    this.send_message('resize', {'width': x_pixels, 'height': y_pixels});\n",
       "}\n",
       "\n",
       "mpl.figure.prototype.send_message = function(type, properties) {\n",
       "    properties['type'] = type;\n",
       "    properties['figure_id'] = this.id;\n",
       "    this.ws.send(JSON.stringify(properties));\n",
       "}\n",
       "\n",
       "mpl.figure.prototype.send_draw_message = function() {\n",
       "    if (!this.waiting) {\n",
       "        this.waiting = true;\n",
       "        this.ws.send(JSON.stringify({type: \"draw\", figure_id: this.id}));\n",
       "    }\n",
       "}\n",
       "\n",
       "\n",
       "mpl.figure.prototype.handle_save = function(fig, msg) {\n",
       "    var format_dropdown = fig.format_dropdown;\n",
       "    var format = format_dropdown.options[format_dropdown.selectedIndex].value;\n",
       "    fig.ondownload(fig, format);\n",
       "}\n",
       "\n",
       "\n",
       "mpl.figure.prototype.handle_resize = function(fig, msg) {\n",
       "    var size = msg['size'];\n",
       "    if (size[0] != fig.canvas.width || size[1] != fig.canvas.height) {\n",
       "        fig._resize_canvas(size[0], size[1]);\n",
       "        fig.send_message(\"refresh\", {});\n",
       "    };\n",
       "}\n",
       "\n",
       "mpl.figure.prototype.handle_rubberband = function(fig, msg) {\n",
       "    var x0 = msg['x0'] / mpl.ratio;\n",
       "    var y0 = (fig.canvas.height - msg['y0']) / mpl.ratio;\n",
       "    var x1 = msg['x1'] / mpl.ratio;\n",
       "    var y1 = (fig.canvas.height - msg['y1']) / mpl.ratio;\n",
       "    x0 = Math.floor(x0) + 0.5;\n",
       "    y0 = Math.floor(y0) + 0.5;\n",
       "    x1 = Math.floor(x1) + 0.5;\n",
       "    y1 = Math.floor(y1) + 0.5;\n",
       "    var min_x = Math.min(x0, x1);\n",
       "    var min_y = Math.min(y0, y1);\n",
       "    var width = Math.abs(x1 - x0);\n",
       "    var height = Math.abs(y1 - y0);\n",
       "\n",
       "    fig.rubberband_context.clearRect(\n",
       "        0, 0, fig.canvas.width, fig.canvas.height);\n",
       "\n",
       "    fig.rubberband_context.strokeRect(min_x, min_y, width, height);\n",
       "}\n",
       "\n",
       "mpl.figure.prototype.handle_figure_label = function(fig, msg) {\n",
       "    // Updates the figure title.\n",
       "    fig.header.textContent = msg['label'];\n",
       "}\n",
       "\n",
       "mpl.figure.prototype.handle_cursor = function(fig, msg) {\n",
       "    var cursor = msg['cursor'];\n",
       "    switch(cursor)\n",
       "    {\n",
       "    case 0:\n",
       "        cursor = 'pointer';\n",
       "        break;\n",
       "    case 1:\n",
       "        cursor = 'default';\n",
       "        break;\n",
       "    case 2:\n",
       "        cursor = 'crosshair';\n",
       "        break;\n",
       "    case 3:\n",
       "        cursor = 'move';\n",
       "        break;\n",
       "    }\n",
       "    fig.rubberband_canvas.style.cursor = cursor;\n",
       "}\n",
       "\n",
       "mpl.figure.prototype.handle_message = function(fig, msg) {\n",
       "    fig.message.textContent = msg['message'];\n",
       "}\n",
       "\n",
       "mpl.figure.prototype.handle_draw = function(fig, msg) {\n",
       "    // Request the server to send over a new figure.\n",
       "    fig.send_draw_message();\n",
       "}\n",
       "\n",
       "mpl.figure.prototype.handle_image_mode = function(fig, msg) {\n",
       "    fig.image_mode = msg['mode'];\n",
       "}\n",
       "\n",
       "mpl.figure.prototype.updated_canvas_event = function() {\n",
       "    // Called whenever the canvas gets updated.\n",
       "    this.send_message(\"ack\", {});\n",
       "}\n",
       "\n",
       "// A function to construct a web socket function for onmessage handling.\n",
       "// Called in the figure constructor.\n",
       "mpl.figure.prototype._make_on_message_function = function(fig) {\n",
       "    return function socket_on_message(evt) {\n",
       "        if (evt.data instanceof Blob) {\n",
       "            /* FIXME: We get \"Resource interpreted as Image but\n",
       "             * transferred with MIME type text/plain:\" errors on\n",
       "             * Chrome.  But how to set the MIME type?  It doesn't seem\n",
       "             * to be part of the websocket stream */\n",
       "            evt.data.type = \"image/png\";\n",
       "\n",
       "            /* Free the memory for the previous frames */\n",
       "            if (fig.imageObj.src) {\n",
       "                (window.URL || window.webkitURL).revokeObjectURL(\n",
       "                    fig.imageObj.src);\n",
       "            }\n",
       "\n",
       "            fig.imageObj.src = (window.URL || window.webkitURL).createObjectURL(\n",
       "                evt.data);\n",
       "            fig.updated_canvas_event();\n",
       "            fig.waiting = false;\n",
       "            return;\n",
       "        }\n",
       "        else if (typeof evt.data === 'string' && evt.data.slice(0, 21) == \"data:image/png;base64\") {\n",
       "            fig.imageObj.src = evt.data;\n",
       "            fig.updated_canvas_event();\n",
       "            fig.waiting = false;\n",
       "            return;\n",
       "        }\n",
       "\n",
       "        var msg = JSON.parse(evt.data);\n",
       "        var msg_type = msg['type'];\n",
       "\n",
       "        // Call the  \"handle_{type}\" callback, which takes\n",
       "        // the figure and JSON message as its only arguments.\n",
       "        try {\n",
       "            var callback = fig[\"handle_\" + msg_type];\n",
       "        } catch (e) {\n",
       "            console.log(\"No handler for the '\" + msg_type + \"' message type: \", msg);\n",
       "            return;\n",
       "        }\n",
       "\n",
       "        if (callback) {\n",
       "            try {\n",
       "                // console.log(\"Handling '\" + msg_type + \"' message: \", msg);\n",
       "                callback(fig, msg);\n",
       "            } catch (e) {\n",
       "                console.log(\"Exception inside the 'handler_\" + msg_type + \"' callback:\", e, e.stack, msg);\n",
       "            }\n",
       "        }\n",
       "    };\n",
       "}\n",
       "\n",
       "// from http://stackoverflow.com/questions/1114465/getting-mouse-location-in-canvas\n",
       "mpl.findpos = function(e) {\n",
       "    //this section is from http://www.quirksmode.org/js/events_properties.html\n",
       "    var targ;\n",
       "    if (!e)\n",
       "        e = window.event;\n",
       "    if (e.target)\n",
       "        targ = e.target;\n",
       "    else if (e.srcElement)\n",
       "        targ = e.srcElement;\n",
       "    if (targ.nodeType == 3) // defeat Safari bug\n",
       "        targ = targ.parentNode;\n",
       "\n",
       "    // jQuery normalizes the pageX and pageY\n",
       "    // pageX,Y are the mouse positions relative to the document\n",
       "    // offset() returns the position of the element relative to the document\n",
       "    var x = e.pageX - $(targ).offset().left;\n",
       "    var y = e.pageY - $(targ).offset().top;\n",
       "\n",
       "    return {\"x\": x, \"y\": y};\n",
       "};\n",
       "\n",
       "/*\n",
       " * return a copy of an object with only non-object keys\n",
       " * we need this to avoid circular references\n",
       " * http://stackoverflow.com/a/24161582/3208463\n",
       " */\n",
       "function simpleKeys (original) {\n",
       "  return Object.keys(original).reduce(function (obj, key) {\n",
       "    if (typeof original[key] !== 'object')\n",
       "        obj[key] = original[key]\n",
       "    return obj;\n",
       "  }, {});\n",
       "}\n",
       "\n",
       "mpl.figure.prototype.mouse_event = function(event, name) {\n",
       "    var canvas_pos = mpl.findpos(event)\n",
       "\n",
       "    if (name === 'button_press')\n",
       "    {\n",
       "        this.canvas.focus();\n",
       "        this.canvas_div.focus();\n",
       "    }\n",
       "\n",
       "    var x = canvas_pos.x * mpl.ratio;\n",
       "    var y = canvas_pos.y * mpl.ratio;\n",
       "\n",
       "    this.send_message(name, {x: x, y: y, button: event.button,\n",
       "                             step: event.step,\n",
       "                             guiEvent: simpleKeys(event)});\n",
       "\n",
       "    /* This prevents the web browser from automatically changing to\n",
       "     * the text insertion cursor when the button is pressed.  We want\n",
       "     * to control all of the cursor setting manually through the\n",
       "     * 'cursor' event from matplotlib */\n",
       "    event.preventDefault();\n",
       "    return false;\n",
       "}\n",
       "\n",
       "mpl.figure.prototype._key_event_extra = function(event, name) {\n",
       "    // Handle any extra behaviour associated with a key event\n",
       "}\n",
       "\n",
       "mpl.figure.prototype.key_event = function(event, name) {\n",
       "\n",
       "    // Prevent repeat events\n",
       "    if (name == 'key_press')\n",
       "    {\n",
       "        if (event.which === this._key)\n",
       "            return;\n",
       "        else\n",
       "            this._key = event.which;\n",
       "    }\n",
       "    if (name == 'key_release')\n",
       "        this._key = null;\n",
       "\n",
       "    var value = '';\n",
       "    if (event.ctrlKey && event.which != 17)\n",
       "        value += \"ctrl+\";\n",
       "    if (event.altKey && event.which != 18)\n",
       "        value += \"alt+\";\n",
       "    if (event.shiftKey && event.which != 16)\n",
       "        value += \"shift+\";\n",
       "\n",
       "    value += 'k';\n",
       "    value += event.which.toString();\n",
       "\n",
       "    this._key_event_extra(event, name);\n",
       "\n",
       "    this.send_message(name, {key: value,\n",
       "                             guiEvent: simpleKeys(event)});\n",
       "    return false;\n",
       "}\n",
       "\n",
       "mpl.figure.prototype.toolbar_button_onclick = function(name) {\n",
       "    if (name == 'download') {\n",
       "        this.handle_save(this, null);\n",
       "    } else {\n",
       "        this.send_message(\"toolbar_button\", {name: name});\n",
       "    }\n",
       "};\n",
       "\n",
       "mpl.figure.prototype.toolbar_button_onmouseover = function(tooltip) {\n",
       "    this.message.textContent = tooltip;\n",
       "};\n",
       "mpl.toolbar_items = [[\"Home\", \"Reset original view\", \"fa fa-home icon-home\", \"home\"], [\"Back\", \"Back to previous view\", \"fa fa-arrow-left icon-arrow-left\", \"back\"], [\"Forward\", \"Forward to next view\", \"fa fa-arrow-right icon-arrow-right\", \"forward\"], [\"\", \"\", \"\", \"\"], [\"Pan\", \"Pan axes with left mouse, zoom with right\", \"fa fa-arrows icon-move\", \"pan\"], [\"Zoom\", \"Zoom to rectangle\", \"fa fa-square-o icon-check-empty\", \"zoom\"], [\"\", \"\", \"\", \"\"], [\"Download\", \"Download plot\", \"fa fa-floppy-o icon-save\", \"download\"]];\n",
       "\n",
       "mpl.extensions = [\"eps\", \"jpeg\", \"pdf\", \"png\", \"ps\", \"raw\", \"svg\", \"tif\"];\n",
       "\n",
       "mpl.default_extension = \"png\";var comm_websocket_adapter = function(comm) {\n",
       "    // Create a \"websocket\"-like object which calls the given IPython comm\n",
       "    // object with the appropriate methods. Currently this is a non binary\n",
       "    // socket, so there is still some room for performance tuning.\n",
       "    var ws = {};\n",
       "\n",
       "    ws.close = function() {\n",
       "        comm.close()\n",
       "    };\n",
       "    ws.send = function(m) {\n",
       "        //console.log('sending', m);\n",
       "        comm.send(m);\n",
       "    };\n",
       "    // Register the callback with on_msg.\n",
       "    comm.on_msg(function(msg) {\n",
       "        //console.log('receiving', msg['content']['data'], msg);\n",
       "        // Pass the mpl event to the overridden (by mpl) onmessage function.\n",
       "        ws.onmessage(msg['content']['data'])\n",
       "    });\n",
       "    return ws;\n",
       "}\n",
       "\n",
       "mpl.mpl_figure_comm = function(comm, msg) {\n",
       "    // This is the function which gets called when the mpl process\n",
       "    // starts-up an IPython Comm through the \"matplotlib\" channel.\n",
       "\n",
       "    var id = msg.content.data.id;\n",
       "    // Get hold of the div created by the display call when the Comm\n",
       "    // socket was opened in Python.\n",
       "    var element = $(\"#\" + id);\n",
       "    var ws_proxy = comm_websocket_adapter(comm)\n",
       "\n",
       "    function ondownload(figure, format) {\n",
       "        window.open(figure.imageObj.src);\n",
       "    }\n",
       "\n",
       "    var fig = new mpl.figure(id, ws_proxy,\n",
       "                           ondownload,\n",
       "                           element.get(0));\n",
       "\n",
       "    // Call onopen now - mpl needs it, as it is assuming we've passed it a real\n",
       "    // web socket which is closed, not our websocket->open comm proxy.\n",
       "    ws_proxy.onopen();\n",
       "\n",
       "    fig.parent_element = element.get(0);\n",
       "    fig.cell_info = mpl.find_output_cell(\"<div id='\" + id + \"'></div>\");\n",
       "    if (!fig.cell_info) {\n",
       "        console.error(\"Failed to find cell for figure\", id, fig);\n",
       "        return;\n",
       "    }\n",
       "\n",
       "    var output_index = fig.cell_info[2]\n",
       "    var cell = fig.cell_info[0];\n",
       "\n",
       "};\n",
       "\n",
       "mpl.figure.prototype.handle_close = function(fig, msg) {\n",
       "    var width = fig.canvas.width/mpl.ratio\n",
       "    fig.root.unbind('remove')\n",
       "\n",
       "    // Update the output cell to use the data from the current canvas.\n",
       "    fig.push_to_output();\n",
       "    var dataURL = fig.canvas.toDataURL();\n",
       "    // Re-enable the keyboard manager in IPython - without this line, in FF,\n",
       "    // the notebook keyboard shortcuts fail.\n",
       "    IPython.keyboard_manager.enable()\n",
       "    $(fig.parent_element).html('<img src=\"' + dataURL + '\" width=\"' + width + '\">');\n",
       "    fig.close_ws(fig, msg);\n",
       "}\n",
       "\n",
       "mpl.figure.prototype.close_ws = function(fig, msg){\n",
       "    fig.send_message('closing', msg);\n",
       "    // fig.ws.close()\n",
       "}\n",
       "\n",
       "mpl.figure.prototype.push_to_output = function(remove_interactive) {\n",
       "    // Turn the data on the canvas into data in the output cell.\n",
       "    var width = this.canvas.width/mpl.ratio\n",
       "    var dataURL = this.canvas.toDataURL();\n",
       "    this.cell_info[1]['text/html'] = '<img src=\"' + dataURL + '\" width=\"' + width + '\">';\n",
       "}\n",
       "\n",
       "mpl.figure.prototype.updated_canvas_event = function() {\n",
       "    // Tell IPython that the notebook contents must change.\n",
       "    IPython.notebook.set_dirty(true);\n",
       "    this.send_message(\"ack\", {});\n",
       "    var fig = this;\n",
       "    // Wait a second, then push the new image to the DOM so\n",
       "    // that it is saved nicely (might be nice to debounce this).\n",
       "    setTimeout(function () { fig.push_to_output() }, 1000);\n",
       "}\n",
       "\n",
       "mpl.figure.prototype._init_toolbar = function() {\n",
       "    var fig = this;\n",
       "\n",
       "    var nav_element = $('<div/>');\n",
       "    nav_element.attr('style', 'width: 100%');\n",
       "    this.root.append(nav_element);\n",
       "\n",
       "    // Define a callback function for later on.\n",
       "    function toolbar_event(event) {\n",
       "        return fig.toolbar_button_onclick(event['data']);\n",
       "    }\n",
       "    function toolbar_mouse_event(event) {\n",
       "        return fig.toolbar_button_onmouseover(event['data']);\n",
       "    }\n",
       "\n",
       "    for(var toolbar_ind in mpl.toolbar_items){\n",
       "        var name = mpl.toolbar_items[toolbar_ind][0];\n",
       "        var tooltip = mpl.toolbar_items[toolbar_ind][1];\n",
       "        var image = mpl.toolbar_items[toolbar_ind][2];\n",
       "        var method_name = mpl.toolbar_items[toolbar_ind][3];\n",
       "\n",
       "        if (!name) { continue; };\n",
       "\n",
       "        var button = $('<button class=\"btn btn-default\" href=\"#\" title=\"' + name + '\"><i class=\"fa ' + image + ' fa-lg\"></i></button>');\n",
       "        button.click(method_name, toolbar_event);\n",
       "        button.mouseover(tooltip, toolbar_mouse_event);\n",
       "        nav_element.append(button);\n",
       "    }\n",
       "\n",
       "    // Add the status bar.\n",
       "    var status_bar = $('<span class=\"mpl-message\" style=\"text-align:right; float: right;\"/>');\n",
       "    nav_element.append(status_bar);\n",
       "    this.message = status_bar[0];\n",
       "\n",
       "    // Add the close button to the window.\n",
       "    var buttongrp = $('<div class=\"btn-group inline pull-right\"></div>');\n",
       "    var button = $('<button class=\"btn btn-mini btn-primary\" href=\"#\" title=\"Stop Interaction\"><i class=\"fa fa-power-off icon-remove icon-large\"></i></button>');\n",
       "    button.click(function (evt) { fig.handle_close(fig, {}); } );\n",
       "    button.mouseover('Stop Interaction', toolbar_mouse_event);\n",
       "    buttongrp.append(button);\n",
       "    var titlebar = this.root.find($('.ui-dialog-titlebar'));\n",
       "    titlebar.prepend(buttongrp);\n",
       "}\n",
       "\n",
       "mpl.figure.prototype._root_extra_style = function(el){\n",
       "    var fig = this\n",
       "    el.on(\"remove\", function(){\n",
       "\tfig.close_ws(fig, {});\n",
       "    });\n",
       "}\n",
       "\n",
       "mpl.figure.prototype._canvas_extra_style = function(el){\n",
       "    // this is important to make the div 'focusable\n",
       "    el.attr('tabindex', 0)\n",
       "    // reach out to IPython and tell the keyboard manager to turn it's self\n",
       "    // off when our div gets focus\n",
       "\n",
       "    // location in version 3\n",
       "    if (IPython.notebook.keyboard_manager) {\n",
       "        IPython.notebook.keyboard_manager.register_events(el);\n",
       "    }\n",
       "    else {\n",
       "        // location in version 2\n",
       "        IPython.keyboard_manager.register_events(el);\n",
       "    }\n",
       "\n",
       "}\n",
       "\n",
       "mpl.figure.prototype._key_event_extra = function(event, name) {\n",
       "    var manager = IPython.notebook.keyboard_manager;\n",
       "    if (!manager)\n",
       "        manager = IPython.keyboard_manager;\n",
       "\n",
       "    // Check for shift+enter\n",
       "    if (event.shiftKey && event.which == 13) {\n",
       "        this.canvas_div.blur();\n",
       "        event.shiftKey = false;\n",
       "        // Send a \"J\" for go to next cell\n",
       "        event.which = 74;\n",
       "        event.keyCode = 74;\n",
       "        manager.command_mode();\n",
       "        manager.handle_keydown(event);\n",
       "    }\n",
       "}\n",
       "\n",
       "mpl.figure.prototype.handle_save = function(fig, msg) {\n",
       "    fig.ondownload(fig, null);\n",
       "}\n",
       "\n",
       "\n",
       "mpl.find_output_cell = function(html_output) {\n",
       "    // Return the cell and output element which can be found *uniquely* in the notebook.\n",
       "    // Note - this is a bit hacky, but it is done because the \"notebook_saving.Notebook\"\n",
       "    // IPython event is triggered only after the cells have been serialised, which for\n",
       "    // our purposes (turning an active figure into a static one), is too late.\n",
       "    var cells = IPython.notebook.get_cells();\n",
       "    var ncells = cells.length;\n",
       "    for (var i=0; i<ncells; i++) {\n",
       "        var cell = cells[i];\n",
       "        if (cell.cell_type === 'code'){\n",
       "            for (var j=0; j<cell.output_area.outputs.length; j++) {\n",
       "                var data = cell.output_area.outputs[j];\n",
       "                if (data.data) {\n",
       "                    // IPython >= 3 moved mimebundle to data attribute of output\n",
       "                    data = data.data;\n",
       "                }\n",
       "                if (data['text/html'] == html_output) {\n",
       "                    return [cell, data, j];\n",
       "                }\n",
       "            }\n",
       "        }\n",
       "    }\n",
       "}\n",
       "\n",
       "// Register the function which deals with the matplotlib target/channel.\n",
       "// The kernel may be null if the page has been refreshed.\n",
       "if (IPython.notebook.kernel != null) {\n",
       "    IPython.notebook.kernel.comm_manager.register_target('matplotlib', mpl.mpl_figure_comm);\n",
       "}\n"
      ],
      "text/plain": [
       "<IPython.core.display.Javascript object>"
      ]
     },
     "metadata": {},
     "output_type": "display_data"
    },
    {
     "data": {
      "text/html": [
       "<img src=\"data:image/png;base64,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\" width=\"640\">"
      ],
      "text/plain": [
       "<IPython.core.display.HTML object>"
      ]
     },
     "metadata": {},
     "output_type": "display_data"
    }
   ],
   "source": [
    "#notebook style plots, you can enlarge, save, see the point coordinates upon hovering etc.\n",
    "%matplotlib notebook\n",
    "plt.plot(t,z,'r--', linewidth = 3.0)\n",
    "plt.show()"
   ]
  }
 ],
 "metadata": {
  "kernelspec": {
   "display_name": "Python 3",
   "language": "python",
   "name": "python3"
  },
  "language_info": {
   "codemirror_mode": {
    "name": "ipython",
    "version": 3
   },
   "file_extension": ".py",
   "mimetype": "text/x-python",
   "name": "python",
   "nbconvert_exporter": "python",
   "pygments_lexer": "ipython3",
   "version": "3.7.5"
  }
 },
 "nbformat": 4,
 "nbformat_minor": 2
}
